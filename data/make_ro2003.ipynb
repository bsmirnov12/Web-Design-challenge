{
 "cells": [
  {
   "cell_type": "code",
   "execution_count": 1,
   "metadata": {},
   "outputs": [],
   "source": [
    "# UT-TOR-DATA-PT-01-2020-U-C Week 11\n",
    "# Web Design Challenge\n",
    "# (c) Boris Smirnov\n",
    "\n",
    "# This notebook creates translation table from FED names to FED ids\n",
    "\n",
    "# In 2003 new representation order (RO) was defined - new electoral distict boundaries and names.\n",
    "# However, only in 2008 those districts were assigned numerical codes. Before that, in 2006 and 2004,\n",
    "# they were identified only by names.\n",
    "# On top of that, 36 FEDs were renamed somewhere between 2004 and 2006 elections.\n",
    "# Fortunately, elections Canada supplied a table with renaming rules (table14.csv).\n",
    "# However in order to use it, one has to fix it in the following ways:\n",
    "# - convert to utf-8\n",
    "# - replace '—' to '--'\n",
    "# - replace ' ,1/9/2004' to ',1/9/2004' (remove extra space before field separator)\n",
    "# - remove extra space before field separator in 'Churchill River/Rivière Churchill ,'\n",
    "# After that, the file can be used to map new names (from 2008 data) to the old ones"
   ]
  },
  {
   "cell_type": "code",
   "execution_count": 7,
   "metadata": {},
   "outputs": [],
   "source": [
    "import pandas as pd"
   ]
  },
  {
   "cell_type": "code",
   "execution_count": 8,
   "metadata": {},
   "outputs": [],
   "source": [
    "ren_rules_fname = '2004/table14_fixed!.csv'\n",
    "feds2008_fname = '2008/table_tableau11.csv'\n",
    "feds2004_fname = '2004/table_tableau11.csv'\n",
    "dst_fname = 'ro2003.csv'"
   ]
  },
  {
   "cell_type": "code",
   "execution_count": 9,
   "metadata": {},
   "outputs": [],
   "source": [
    "ren_rules_df = pd.read_csv(ren_rules_fname).iloc[:, 1:3].copy()\n",
    "ren_rules_df.columns = ['Old', 'New']\n",
    "rename_dict = dict(zip(ren_rules_df['New'], ren_rules_df['Old']))"
   ]
  },
  {
   "cell_type": "code",
   "execution_count": 10,
   "metadata": {},
   "outputs": [],
   "source": [
    "feds2008_df = pd.read_csv(feds2008_fname).iloc[:, 1:3].copy()\n",
    "feds2008_df.columns = ['FED Name 2008', 'FED Id']\n",
    "feds2008_df['FED Name 2004'] = feds2008_df['FED Name 2008'].apply(\n",
    "    lambda name: rename_dict[name] if name in rename_dict else name)"
   ]
  },
  {
   "cell_type": "code",
   "execution_count": 11,
   "metadata": {},
   "outputs": [
    {
     "data": {
      "text/html": [
       "<div>\n",
       "<style scoped>\n",
       "    .dataframe tbody tr th:only-of-type {\n",
       "        vertical-align: middle;\n",
       "    }\n",
       "\n",
       "    .dataframe tbody tr th {\n",
       "        vertical-align: top;\n",
       "    }\n",
       "\n",
       "    .dataframe thead th {\n",
       "        text-align: right;\n",
       "    }\n",
       "</style>\n",
       "<table border=\"1\" class=\"dataframe\">\n",
       "  <thead>\n",
       "    <tr style=\"text-align: right;\">\n",
       "      <th></th>\n",
       "      <th>FED Id</th>\n",
       "      <th>FED Name 2004</th>\n",
       "      <th>FED Name 2008</th>\n",
       "    </tr>\n",
       "  </thead>\n",
       "  <tbody>\n",
       "    <tr>\n",
       "      <th>0</th>\n",
       "      <td>10001</td>\n",
       "      <td>Avalon</td>\n",
       "      <td>Avalon</td>\n",
       "    </tr>\n",
       "    <tr>\n",
       "      <th>1</th>\n",
       "      <td>10002</td>\n",
       "      <td>Bonavista--Exploits</td>\n",
       "      <td>Bonavista--Gander--Grand Falls--Windsor</td>\n",
       "    </tr>\n",
       "    <tr>\n",
       "      <th>2</th>\n",
       "      <td>10003</td>\n",
       "      <td>Humber--St. Barbe--Baie Verte</td>\n",
       "      <td>Humber--St. Barbe--Baie Verte</td>\n",
       "    </tr>\n",
       "    <tr>\n",
       "      <th>3</th>\n",
       "      <td>10004</td>\n",
       "      <td>Labrador</td>\n",
       "      <td>Labrador</td>\n",
       "    </tr>\n",
       "    <tr>\n",
       "      <th>4</th>\n",
       "      <td>10005</td>\n",
       "      <td>Random--Burin--St. George's</td>\n",
       "      <td>Random--Burin--St. George's</td>\n",
       "    </tr>\n",
       "    <tr>\n",
       "      <th>...</th>\n",
       "      <td>...</td>\n",
       "      <td>...</td>\n",
       "      <td>...</td>\n",
       "    </tr>\n",
       "    <tr>\n",
       "      <th>303</th>\n",
       "      <td>59035</td>\n",
       "      <td>Victoria</td>\n",
       "      <td>Victoria</td>\n",
       "    </tr>\n",
       "    <tr>\n",
       "      <th>304</th>\n",
       "      <td>59036</td>\n",
       "      <td>West Vancouver--Sunshine Coast</td>\n",
       "      <td>West Vancouver--Sunshine Coast--Sea to Sky Cou...</td>\n",
       "    </tr>\n",
       "    <tr>\n",
       "      <th>305</th>\n",
       "      <td>60001</td>\n",
       "      <td>Yukon</td>\n",
       "      <td>Yukon</td>\n",
       "    </tr>\n",
       "    <tr>\n",
       "      <th>306</th>\n",
       "      <td>61001</td>\n",
       "      <td>Western Arctic</td>\n",
       "      <td>Western Arctic</td>\n",
       "    </tr>\n",
       "    <tr>\n",
       "      <th>307</th>\n",
       "      <td>62001</td>\n",
       "      <td>Nunavut</td>\n",
       "      <td>Nunavut</td>\n",
       "    </tr>\n",
       "  </tbody>\n",
       "</table>\n",
       "<p>308 rows × 3 columns</p>\n",
       "</div>"
      ],
      "text/plain": [
       "     FED Id                   FED Name 2004  \\\n",
       "0     10001                          Avalon   \n",
       "1     10002             Bonavista--Exploits   \n",
       "2     10003   Humber--St. Barbe--Baie Verte   \n",
       "3     10004                        Labrador   \n",
       "4     10005     Random--Burin--St. George's   \n",
       "..      ...                             ...   \n",
       "303   59035                        Victoria   \n",
       "304   59036  West Vancouver--Sunshine Coast   \n",
       "305   60001                           Yukon   \n",
       "306   61001                  Western Arctic   \n",
       "307   62001                         Nunavut   \n",
       "\n",
       "                                         FED Name 2008  \n",
       "0                                               Avalon  \n",
       "1              Bonavista--Gander--Grand Falls--Windsor  \n",
       "2                        Humber--St. Barbe--Baie Verte  \n",
       "3                                             Labrador  \n",
       "4                          Random--Burin--St. George's  \n",
       "..                                                 ...  \n",
       "303                                           Victoria  \n",
       "304  West Vancouver--Sunshine Coast--Sea to Sky Cou...  \n",
       "305                                              Yukon  \n",
       "306                                     Western Arctic  \n",
       "307                                            Nunavut  \n",
       "\n",
       "[308 rows x 3 columns]"
      ]
     },
     "execution_count": 11,
     "metadata": {},
     "output_type": "execute_result"
    }
   ],
   "source": [
    "ro2003_df = feds2008_df[['FED Id', 'FED Name 2004', 'FED Name 2008']]\n",
    "ro2003_df"
   ]
  },
  {
   "cell_type": "code",
   "execution_count": 12,
   "metadata": {},
   "outputs": [],
   "source": [
    "ro2003_df.to_csv(dst_fname, index=False)"
   ]
  }
 ],
 "metadata": {
  "kernelspec": {
   "display_name": "Python [conda env:.conda-PythonData] *",
   "language": "python",
   "name": "conda-env-.conda-PythonData-py"
  },
  "language_info": {
   "codemirror_mode": {
    "name": "ipython",
    "version": 3
   },
   "file_extension": ".py",
   "mimetype": "text/x-python",
   "name": "python",
   "nbconvert_exporter": "python",
   "pygments_lexer": "ipython3",
   "version": "3.6.10"
  }
 },
 "nbformat": 4,
 "nbformat_minor": 4
}

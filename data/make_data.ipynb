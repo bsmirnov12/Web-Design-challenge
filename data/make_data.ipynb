{
 "cells": [
  {
   "cell_type": "code",
   "execution_count": 1,
   "metadata": {},
   "outputs": [],
   "source": [
    "# UT-TOR-DATA-PT-01-2020-U-C Week 11\n",
    "# Web Design Challenge\n",
    "# Data Import, Transformation, Export for display (html) and charting (csv)\n",
    "# (c) Boris Smirnov"
   ]
  },
  {
   "cell_type": "code",
   "execution_count": 2,
   "metadata": {},
   "outputs": [],
   "source": [
    "import pandas as pd\n",
    "import utilities as u"
   ]
  },
  {
   "cell_type": "code",
   "execution_count": 3,
   "metadata": {},
   "outputs": [],
   "source": [
    "for year in [2004, 2006, 2008, 2011, 2015, 2019]:\n",
    "    table11_df = u.load_table11(year)\n",
    "    table12_df = u.load_table12(year)\n",
    "    merged_df = pd.merge(table12_df, table11_df, how=\"left\", on=['FED Id', 'FED Name'])\n",
    "    output_df = merged_df[[\n",
    "        'Province Id',\n",
    "        'Province Name',\n",
    "        'FED Id',\n",
    "        'FED Name',\n",
    "        'Winning Pid',\n",
    "        'Ballots',\n",
    "        'Candidate Pid',\n",
    "        'Votes'\n",
    "    ]]\n",
    "    output_df.to_csv(f\"data{year}.csv\", index=False)\n",
    "    output_df.to_html(\n",
    "        f\"../html/data{year}_table.html\",\n",
    "        border=0, justify=\"left\",\n",
    "        classes=\"table table-striped table-sm small\")"
   ]
  }
 ],
 "metadata": {
  "kernelspec": {
   "display_name": "Python [conda env:.conda-PythonData] *",
   "language": "python",
   "name": "conda-env-.conda-PythonData-py"
  },
  "language_info": {
   "codemirror_mode": {
    "name": "ipython",
    "version": 3
   },
   "file_extension": ".py",
   "mimetype": "text/x-python",
   "name": "python",
   "nbconvert_exporter": "python",
   "pygments_lexer": "ipython3",
   "version": "3.6.10"
  }
 },
 "nbformat": 4,
 "nbformat_minor": 4
}
